{
 "cells": [
  {
   "cell_type": "code",
   "execution_count": 2,
   "id": "c400a2e3-a72f-4856-a12c-6848aca69870",
   "metadata": {},
   "outputs": [
    {
     "ename": "IndentationError",
     "evalue": "expected an indented block after function definition on line 1 (646793903.py, line 2)",
     "output_type": "error",
     "traceback": [
      "\u001b[1;36m  Cell \u001b[1;32mIn[2], line 2\u001b[1;36m\u001b[0m\n\u001b[1;33m    pass\u001b[0m\n\u001b[1;37m    ^\u001b[0m\n\u001b[1;31mIndentationError\u001b[0m\u001b[1;31m:\u001b[0m expected an indented block after function definition on line 1\n"
     ]
    }
   ],
   "source": [
    "def add():\n",
    "pass\n"
   ]
  },
  {
   "cell_type": "code",
   "execution_count": 4,
   "id": "c7a8e48c-b12c-4e03-8475-1564d8a7f81e",
   "metadata": {},
   "outputs": [
    {
     "name": "stdout",
     "output_type": "stream",
     "text": [
      "Addtion\n",
      "Addtion\n",
      "Addtion\n"
     ]
    }
   ],
   "source": [
    "def add():\n",
    "    print('Addtion')\n",
    "add()\n",
    "add()\n",
    "add()"
   ]
  },
  {
   "cell_type": "code",
   "execution_count": null,
   "id": "ee135c36-f561-46ea-b540-8ef4df7f7df4",
   "metadata": {},
   "outputs": [],
   "source": [
    "def add():\n",
    "    print('Addition')\n",
    "add(10)"
   ]
  }
 ],
 "metadata": {
  "kernelspec": {
   "display_name": "Python 3 (ipykernel)",
   "language": "python",
   "name": "python3"
  },
  "language_info": {
   "codemirror_mode": {
    "name": "ipython",
    "version": 3
   },
   "file_extension": ".py",
   "mimetype": "text/x-python",
   "name": "python",
   "nbconvert_exporter": "python",
   "pygments_lexer": "ipython3",
   "version": "3.11.9"
  }
 },
 "nbformat": 4,
 "nbformat_minor": 5
}
