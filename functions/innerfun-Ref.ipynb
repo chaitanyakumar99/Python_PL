{
 "cells": [
  {
   "cell_type": "code",
   "execution_count": 3,
   "id": "cb41a7bd-9f8c-4356-8dd1-4963fb5ca157",
   "metadata": {},
   "outputs": [
    {
     "name": "stdout",
     "output_type": "stream",
     "text": [
      "100\n",
      "<class 'int'>\n"
     ]
    }
   ],
   "source": [
    "def outer():\n",
    "    pass\n",
    "    def inner():\n",
    "        pass\n",
    "    return 100\n",
    "a=outer()\n",
    "\n",
    "print(a)\n",
    "print(type(a))"
   ]
  },
  {
   "cell_type": "code",
   "execution_count": 9,
   "id": "b0b1f5cf-88eb-4f86-bb35-92043d861f34",
   "metadata": {},
   "outputs": [
    {
     "name": "stdout",
     "output_type": "stream",
     "text": [
      "500\n",
      "<class 'int'>\n"
     ]
    }
   ],
   "source": [
    "def outer():\n",
    "    pass\n",
    "    def inner():\n",
    "        pass\n",
    "    return 500\n",
    "a=outer()\n",
    "\n",
    "print(a)\n",
    "print(type(a))"
   ]
  },
  {
   "cell_type": "code",
   "execution_count": 23,
   "id": "8a542a42-c5f2-45af-802f-3eebee5c93ed",
   "metadata": {},
   "outputs": [
    {
     "name": "stdout",
     "output_type": "stream",
     "text": [
      "<function outer.<locals>.inner at 0x00000196EF1323E0>\n",
      "<class 'function'>\n"
     ]
    }
   ],
   "source": [
    "def outer():\n",
    "    pass\n",
    "    def inner():\n",
    "        pass\n",
    "    return inner\n",
    "a=outer()\n",
    "print(a)\n",
    "print(type(a))"
   ]
  },
  {
   "cell_type": "code",
   "execution_count": null,
   "id": "a0e4eeab-c524-474e-86a7-5dcf5310f791",
   "metadata": {},
   "outputs": [],
   "source": []
  }
 ],
 "metadata": {
  "kernelspec": {
   "display_name": "Python 3 (ipykernel)",
   "language": "python",
   "name": "python3"
  },
  "language_info": {
   "codemirror_mode": {
    "name": "ipython",
    "version": 3
   },
   "file_extension": ".py",
   "mimetype": "text/x-python",
   "name": "python",
   "nbconvert_exporter": "python",
   "pygments_lexer": "ipython3",
   "version": "3.11.9"
  }
 },
 "nbformat": 4,
 "nbformat_minor": 5
}
