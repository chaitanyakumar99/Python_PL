{
 "cells": [
  {
   "cell_type": "code",
   "execution_count": 1,
   "id": "cb406ec6-9f87-4ac0-83cb-e7986834494c",
   "metadata": {},
   "outputs": [
    {
     "ename": "IndentationError",
     "evalue": "expected an indented block after class definition on line 1 (2186108757.py, line 2)",
     "output_type": "error",
     "traceback": [
      "\u001b[1;36m  Cell \u001b[1;32mIn[1], line 2\u001b[1;36m\u001b[0m\n\u001b[1;33m    pass\u001b[0m\n\u001b[1;37m    ^\u001b[0m\n\u001b[1;31mIndentationError\u001b[0m\u001b[1;31m:\u001b[0m expected an indented block after class definition on line 1\n"
     ]
    }
   ],
   "source": [
    "#class is template/plan/draft/design/mould - to construct the objects.\n",
    "#once object is created memory location id=s allocated\n",
    "class Emp:\n",
    "pass"
   ]
  },
  {
   "cell_type": "code",
   "execution_count": 2,
   "id": "21886ebf-51e2-438c-a153-51843c158c5d",
   "metadata": {},
   "outputs": [
    {
     "data": {
      "text/plain": [
       "<__main__.Emp at 0x16b7858e410>"
      ]
     },
     "execution_count": 2,
     "metadata": {},
     "output_type": "execute_result"
    }
   ],
   "source": [
    "class Emp:\n",
    "    pass\n",
    "Emp()\n",
    "Emp()\n",
    "Emp()\n",
    "Emp()"
   ]
  },
  {
   "cell_type": "code",
   "execution_count": 13,
   "id": "3bedb142-2bf0-4cca-954f-cb6abb88e823",
   "metadata": {},
   "outputs": [
    {
     "name": "stdout",
     "output_type": "stream",
     "text": [
      "<__main__.Emp object at 0x0000016B787F8D50>\n",
      "<__main__.Emp object at 0x0000016B78781650>\n",
      "<__main__.Emp object at 0x0000016B78782990>\n",
      "<__main__.Emp object at 0x0000016B78781B10>\n",
      "<__main__.Emp object at 0x0000016B787F8550>\n"
     ]
    }
   ],
   "source": [
    "class Emp:\n",
    "     pass\n",
    "    \n",
    "e1=Emp()\n",
    "e2=Emp()\n",
    "e3=Emp()\n",
    "e4=Emp()\n",
    "e5=Emp()\n",
    "\n",
    "print(e1)\n",
    "print(e2)\n",
    "print(e3)\n",
    "print(e4)\n",
    "print(e5)\n"
   ]
  },
  {
   "cell_type": "code",
   "execution_count": 15,
   "id": "7655ccef-4d04-4ad8-b6b3-0b868c284cfa",
   "metadata": {},
   "outputs": [
    {
     "name": "stdout",
     "output_type": "stream",
     "text": [
      "1561094505040\n",
      "1561094265936\n",
      "1561094620240\n"
     ]
    }
   ],
   "source": [
    "class Emp:\n",
    "    pass\n",
    "    \n",
    "e1=Emp()\n",
    "e2=Emp()\n",
    "e3=Emp()\n",
    "\n",
    "print(id(e1))\n",
    "print(id(e2))\n",
    "print(id(e3))\n"
   ]
  },
  {
   "cell_type": "code",
   "execution_count": 22,
   "id": "d9939e60-cb91-4956-9fad-bd620e193097",
   "metadata": {},
   "outputs": [
    {
     "name": "stdout",
     "output_type": "stream",
     "text": [
      "30\n",
      "Rahul\n",
      "<__main__.Emp object at 0x0000016B787BC250>\n"
     ]
    }
   ],
   "source": [
    "a=30\n",
    "ename=\"Rahul\"\n",
    "\n",
    "class Emp:\n",
    "    pass\n",
    "\n",
    "\n",
    "print(a)\n",
    "print(ename)\n",
    "print(e1)"
   ]
  },
  {
   "cell_type": "code",
   "execution_count": 26,
   "id": "61f899ec-259e-4fe7-aa74-440b92b6360a",
   "metadata": {},
   "outputs": [
    {
     "name": "stdout",
     "output_type": "stream",
     "text": [
      "<class 'int'>\n",
      "<class 'str'>\n",
      "<class '__main__.Emp'>\n"
     ]
    }
   ],
   "source": [
    "a=300\n",
    "ename=\"varma\"\n",
    "\n",
    "class Emp:\n",
    "    pass\n",
    "    \n",
    "e1=Emp()\n",
    "\n",
    "print(type(a))\n",
    "print(type(ename))\n",
    "print(type(e1))"
   ]
  },
  {
   "cell_type": "code",
   "execution_count": 47,
   "id": "9225e195-909a-474d-9a72-33bc75c72c52",
   "metadata": {},
   "outputs": [
    {
     "name": "stdout",
     "output_type": "stream",
     "text": [
      "<__main__.account object at 0x0000016B7854DD90>\n",
      "1561091956112\n",
      "<class '__main__.account'>\n"
     ]
    }
   ],
   "source": [
    "class Account:\n",
    "    pass\n",
    "\n",
    "a1=account()\n",
    "a2=account()\n",
    "\n",
    "print(a1)\n",
    "print(id(a1))\n",
    "print(type(a1))"
   ]
  },
  {
   "cell_type": "code",
   "execution_count": 49,
   "id": "ab634e4a-50ac-4a10-b84f-0741606b8b77",
   "metadata": {},
   "outputs": [
    {
     "name": "stdout",
     "output_type": "stream",
     "text": [
      "<__main__.account object at 0x0000016B78845750>\n",
      "1561095067472\n",
      "<class '__main__.account'>\n",
      "<__main__.account object at 0x0000016B787F91D0>\n",
      "1561094754768\n",
      "<class '__main__.account'>\n"
     ]
    }
   ],
   "source": [
    "class Account:\n",
    "    pass \n",
    "a1=account()\n",
    "a2=account()\n",
    "\n",
    "print(a1)\n",
    "print(id(a1))\n",
    "print(type(a1))\n",
    "\n",
    "\n",
    "print(a2)\n",
    "print(id(a2))\n",
    "print(type(a2))"
   ]
  },
  {
   "cell_type": "code",
   "execution_count": 50,
   "id": "30dd3557-6c7a-43a1-be18-29aa0b0456ee",
   "metadata": {},
   "outputs": [],
   "source": [
    "class Account:\n",
    "    #class members contain- variable or method\n",
    "    pass\n"
   ]
  },
  {
   "cell_type": "code",
   "execution_count": null,
   "id": "0f2c56a7-2a78-4bc6-b5ba-e8c4e969d238",
   "metadata": {},
   "outputs": [],
   "source": []
  }
 ],
 "metadata": {
  "kernelspec": {
   "display_name": "Python 3 (ipykernel)",
   "language": "python",
   "name": "python3"
  },
  "language_info": {
   "codemirror_mode": {
    "name": "ipython",
    "version": 3
   },
   "file_extension": ".py",
   "mimetype": "text/x-python",
   "name": "python",
   "nbconvert_exporter": "python",
   "pygments_lexer": "ipython3",
   "version": "3.11.9"
  }
 },
 "nbformat": 4,
 "nbformat_minor": 5
}
