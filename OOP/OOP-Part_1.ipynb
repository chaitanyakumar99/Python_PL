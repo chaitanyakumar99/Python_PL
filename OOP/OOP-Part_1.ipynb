{
 "cells": [
  {
   "cell_type": "code",
   "execution_count": 1,
   "id": "cb406ec6-9f87-4ac0-83cb-e7986834494c",
   "metadata": {},
   "outputs": [
    {
     "ename": "IndentationError",
     "evalue": "expected an indented block after class definition on line 1 (2186108757.py, line 2)",
     "output_type": "error",
     "traceback": [
      "\u001b[1;36m  Cell \u001b[1;32mIn[1], line 2\u001b[1;36m\u001b[0m\n\u001b[1;33m    pass\u001b[0m\n\u001b[1;37m    ^\u001b[0m\n\u001b[1;31mIndentationError\u001b[0m\u001b[1;31m:\u001b[0m expected an indented block after class definition on line 1\n"
     ]
    }
   ],
   "source": [
    "#class is template/plan/draft/design/mould - to construct the objects.\n",
    "#once object is created memory location id=s allocated\n",
    "class Emp:\n",
    "pass"
   ]
  },
  {
   "cell_type": "code",
   "execution_count": 2,
   "id": "21886ebf-51e2-438c-a153-51843c158c5d",
   "metadata": {},
   "outputs": [
    {
     "data": {
      "text/plain": [
       "<__main__.Emp at 0x16b7858e410>"
      ]
     },
     "execution_count": 2,
     "metadata": {},
     "output_type": "execute_result"
    }
   ],
   "source": [
    "class Emp:\n",
    "    pass\n",
    "Emp()\n",
    "Emp()\n",
    "Emp()\n",
    "Emp()"
   ]
  },
  {
   "cell_type": "code",
   "execution_count": 13,
   "id": "3bedb142-2bf0-4cca-954f-cb6abb88e823",
   "metadata": {},
   "outputs": [
    {
     "name": "stdout",
     "output_type": "stream",
     "text": [
      "<__main__.Emp object at 0x0000016B787F8D50>\n",
      "<__main__.Emp object at 0x0000016B78781650>\n",
      "<__main__.Emp object at 0x0000016B78782990>\n",
      "<__main__.Emp object at 0x0000016B78781B10>\n",
      "<__main__.Emp object at 0x0000016B787F8550>\n"
     ]
    }
   ],
   "source": [
    "class Emp:\n",
    "     pass\n",
    "    \n",
    "e1=Emp()\n",
    "e2=Emp()\n",
    "e3=Emp()\n",
    "e4=Emp()\n",
    "e5=Emp()\n",
    "\n",
    "print(e1)\n",
    "print(e2)\n",
    "print(e3)\n",
    "print(e4)\n",
    "print(e5)\n"
   ]
  },
  {
   "cell_type": "code",
   "execution_count": null,
   "id": "7655ccef-4d04-4ad8-b6b3-0b868c284cfa",
   "metadata": {},
   "outputs": [],
   "source": [
    "class "
   ]
  }
 ],
 "metadata": {
  "kernelspec": {
   "display_name": "Python 3 (ipykernel)",
   "language": "python",
   "name": "python3"
  },
  "language_info": {
   "codemirror_mode": {
    "name": "ipython",
    "version": 3
   },
   "file_extension": ".py",
   "mimetype": "text/x-python",
   "name": "python",
   "nbconvert_exporter": "python",
   "pygments_lexer": "ipython3",
   "version": "3.11.9"
  }
 },
 "nbformat": 4,
 "nbformat_minor": 5
}
