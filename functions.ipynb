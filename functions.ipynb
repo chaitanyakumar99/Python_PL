{
 "cells": [
  {
   "cell_type": "code",
   "execution_count": null,
   "id": "cf982a22-756a-427c-94de-8851e5a7321b",
   "metadata": {},
   "outputs": [],
   "source": [
    "def add();\n",
    "pass"
   ]
  }
 ],
 "metadata": {
  "kernelspec": {
   "display_name": "Python 3 (ipykernel)",
   "language": "python",
   "name": "python3"
  },
  "language_info": {
   "codemirror_mode": {
    "name": "ipython",
    "version": 3
   },
   "file_extension": ".py",
   "mimetype": "text/x-python",
   "name": "python",
   "nbconvert_exporter": "python",
   "pygments_lexer": "ipython3",
   "version": "3.11.9"
  }
 },
 "nbformat": 4,
 "nbformat_minor": 5
}
