{
 "cells": [
  {
   "cell_type": "code",
   "execution_count": 11,
   "id": "3766a25a-d4a7-4a39-990b-7b013dfeb9e3",
   "metadata": {},
   "outputs": [
    {
     "name": "stdout",
     "output_type": "stream",
     "text": [
      "<class 'int'>\n",
      "<class 'str'>\n",
      "('Rahul', 10, '20', 30)\n",
      "<class 'tuple'>\n"
     ]
    }
   ],
   "source": [
    "#create -operation\n",
    "eid=101\n",
    "ename=\"Rahul\"\n",
    "x=\"Rahul\",10,\"20\",30\n",
    "\n",
    "print(type(eid))\n",
    "print(type(ename))\n",
    "print(x)\n",
    "print(type(x))\n"
   ]
  },
  {
   "cell_type": "code",
   "execution_count": null,
   "id": "0b51db51-bfe9-474b-997d-430c1f5e284d",
   "metadata": {},
   "outputs": [],
   "source": [
    "a,b,c=10,20,30\n",
    "print(a)\n",
    "print(b)\n",
    "print(c)"
   ]
  }
 ],
 "metadata": {
  "kernelspec": {
   "display_name": "Python 3 (ipykernel)",
   "language": "python",
   "name": "python3"
  },
  "language_info": {
   "codemirror_mode": {
    "name": "ipython",
    "version": 3
   },
   "file_extension": ".py",
   "mimetype": "text/x-python",
   "name": "python",
   "nbconvert_exporter": "python",
   "pygments_lexer": "ipython3",
   "version": "3.11.9"
  }
 },
 "nbformat": 4,
 "nbformat_minor": 5
}
