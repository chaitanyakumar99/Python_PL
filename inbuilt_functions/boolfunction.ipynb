{
 "cells": [
  {
   "cell_type": "code",
   "execution_count": 1,
   "id": "6bddd095-ecd8-41a7-80f0-eed4cd212eaf",
   "metadata": {},
   "outputs": [
    {
     "name": "stdout",
     "output_type": "stream",
     "text": [
      "False\n",
      "True\n"
     ]
    }
   ],
   "source": [
    "#bool()-inbuilt function,convertfrom one type bool type\n",
    "\n",
    "print(bool(0))\n",
    "print(bool(20))"
   ]
  },
  {
   "cell_type": "code",
   "execution_count": null,
   "id": "c17918a1-1294-4f97-b87d-497822deb382",
   "metadata": {},
   "outputs": [],
   "source": []
  }
 ],
 "metadata": {
  "kernelspec": {
   "display_name": "Python 3 (ipykernel)",
   "language": "python",
   "name": "python3"
  },
  "language_info": {
   "codemirror_mode": {
    "name": "ipython",
    "version": 3
   },
   "file_extension": ".py",
   "mimetype": "text/x-python",
   "name": "python",
   "nbconvert_exporter": "python",
   "pygments_lexer": "ipython3",
   "version": "3.11.9"
  }
 },
 "nbformat": 4,
 "nbformat_minor": 5
}
