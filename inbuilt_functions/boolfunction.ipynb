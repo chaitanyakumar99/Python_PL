{
 "cells": [
  {
   "cell_type": "code",
   "execution_count": 2,
   "id": "6bddd095-ecd8-41a7-80f0-eed4cd212eaf",
   "metadata": {},
   "outputs": [
    {
     "name": "stdout",
     "output_type": "stream",
     "text": [
      "False\n",
      "True\n"
     ]
    }
   ],
   "source": [
    "#bool()-inbuilt function,convertfrom one type bool type \n",
    "\n",
    "print(bool(0))\n",
    "print(bool(100))"
   ]
  },
  {
   "cell_type": "code",
   "execution_count": 5,
   "id": "c17918a1-1294-4f97-b87d-497822deb382",
   "metadata": {},
   "outputs": [
    {
     "name": "stdout",
     "output_type": "stream",
     "text": [
      "True\n",
      "True\n"
     ]
    }
   ],
   "source": [
    "#bool()-inbuilt function,convertfrom one type bool type\n",
    "\n",
    "print(bool(30))\n",
    "print(bool(50))"
   ]
  },
  {
   "cell_type": "code",
   "execution_count": 7,
   "id": "9711f8db-2e62-400d-975a-b103353c54c3",
   "metadata": {},
   "outputs": [
    {
     "name": "stdout",
     "output_type": "stream",
     "text": [
      "True\n",
      "True\n"
     ]
    }
   ],
   "source": [
    "print(bool(20))\n",
    "print(bool(\"Twenty\"))"
   ]
  },
  {
   "cell_type": "code",
   "execution_count": 9,
   "id": "39343874-df66-4005-a8e1-3e9e810689cf",
   "metadata": {},
   "outputs": [
    {
     "name": "stdout",
     "output_type": "stream",
     "text": [
      "True\n",
      "True\n"
     ]
    }
   ],
   "source": [
    "print(bool(\"80\"))\n",
    "print(bool(\"Hello\"))"
   ]
  },
  {
   "cell_type": "code",
   "execution_count": 11,
   "id": "8aebbf04-8f93-4ba7-873d-31deafb7688c",
   "metadata": {},
   "outputs": [
    {
     "name": "stdout",
     "output_type": "stream",
     "text": [
      "True\n"
     ]
    },
    {
     "ename": "NameError",
     "evalue": "name 'GM' is not defined",
     "output_type": "error",
     "traceback": [
      "\u001b[1;31m---------------------------------------------------------------------------\u001b[0m",
      "\u001b[1;31mNameError\u001b[0m                                 Traceback (most recent call last)",
      "Cell \u001b[1;32mIn[11], line 2\u001b[0m\n\u001b[0;32m      1\u001b[0m \u001b[38;5;28mprint\u001b[39m(\u001b[38;5;28mbool\u001b[39m(\u001b[38;5;124m\"\u001b[39m\u001b[38;5;124mHello\u001b[39m\u001b[38;5;124m\"\u001b[39m))\n\u001b[1;32m----> 2\u001b[0m \u001b[38;5;28mprint\u001b[39m(\u001b[38;5;28mbool\u001b[39m(\u001b[43mGM\u001b[49m))\n",
      "\u001b[1;31mNameError\u001b[0m: name 'GM' is not defined"
     ]
    }
   ],
   "source": [
    "print(bool(\"Hello\"))\n",
    "print(bool(GM))"
   ]
  },
  {
   "cell_type": "code",
   "execution_count": 12,
   "id": "4fc0df0a-df13-44dd-bf51-dc2f11cad68a",
   "metadata": {},
   "outputs": [
    {
     "name": "stdout",
     "output_type": "stream",
     "text": [
      "True\n",
      "True\n"
     ]
    }
   ],
   "source": [
    "print(bool(\"Hello\"))\n",
    "print(bool(\"GM\"))"
   ]
  },
  {
   "cell_type": "code",
   "execution_count": null,
   "id": "31fb11ce-2bb4-4b11-8561-6e4902b82d5f",
   "metadata": {},
   "outputs": [],
   "source": [
    "# if we don't give any value then if will be false\n",
    "\n",
    "print(bool(\"\"))\n"
   ]
  }
 ],
 "metadata": {
  "kernelspec": {
   "display_name": "Python 3 (ipykernel)",
   "language": "python",
   "name": "python3"
  },
  "language_info": {
   "codemirror_mode": {
    "name": "ipython",
    "version": 3
   },
   "file_extension": ".py",
   "mimetype": "text/x-python",
   "name": "python",
   "nbconvert_exporter": "python",
   "pygments_lexer": "ipython3",
   "version": "3.11.9"
  }
 },
 "nbformat": 4,
 "nbformat_minor": 5
}
