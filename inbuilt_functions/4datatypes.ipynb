{
 "cells": [
  {
   "cell_type": "code",
   "execution_count": 11,
   "id": "3766a25a-d4a7-4a39-990b-7b013dfeb9e3",
   "metadata": {},
   "outputs": [
    {
     "name": "stdout",
     "output_type": "stream",
     "text": [
      "<class 'int'>\n",
      "<class 'str'>\n",
      "('Rahul', 10, '20', 30)\n",
      "<class 'tuple'>\n"
     ]
    }
   ],
   "source": [
    "#create -operation\n",
    "eid=101\n",
    "ename=\"Rahul\"\n",
    "x=\"Rahul\",10,\"20\",30\n",
    "\n",
    "print(type(eid))\n",
    "print(type(ename))\n",
    "print(x)\n",
    "print(type(x))\n"
   ]
  },
  {
   "cell_type": "code",
   "execution_count": 13,
   "id": "0b51db51-bfe9-474b-997d-430c1f5e284d",
   "metadata": {},
   "outputs": [
    {
     "name": "stdout",
     "output_type": "stream",
     "text": [
      "50\n",
      "80\n",
      "250\n"
     ]
    }
   ],
   "source": [
    "a,b,c=50,80,250\n",
    "print(a)\n",
    "print(b)\n",
    "print(c)"
   ]
  },
  {
   "cell_type": "code",
   "execution_count": 26,
   "id": "97033ca0-f188-45fc-86ce-52bd1135f0dc",
   "metadata": {},
   "outputs": [
    {
     "name": "stdout",
     "output_type": "stream",
     "text": [
      "[101, 102, 103, 104]\n",
      "101\n",
      "102\n",
      "103\n",
      "[101, 102, 105, 104]\n"
     ]
    }
   ],
   "source": [
    "#What is list and list() function\n",
    "#used to convert an iterable (such as a string, tuple or dictionary) into a list.\n",
    "\n",
    "#create\n",
    "ids=[101,102,103,104]\n",
    "\n",
    "#Read\n",
    "print(ids)\n",
    "#how to read the list elements? using indexing\n",
    "print(ids[0])\n",
    "print(ids[1])\n",
    "print(ids[2])\n",
    "\n",
    "#update\n",
    "ids[2]=105\n",
    "print(ids)"
   ]
  },
  {
   "cell_type": "code",
   "execution_count": null,
   "id": "1ebe96d0-e8f1-4e02-8b7e-25b28ed3867e",
   "metadata": {},
   "outputs": [],
   "source": []
  }
 ],
 "metadata": {
  "kernelspec": {
   "display_name": "Python 3 (ipykernel)",
   "language": "python",
   "name": "python3"
  },
  "language_info": {
   "codemirror_mode": {
    "name": "ipython",
    "version": 3
   },
   "file_extension": ".py",
   "mimetype": "text/x-python",
   "name": "python",
   "nbconvert_exporter": "python",
   "pygments_lexer": "ipython3",
   "version": "3.11.9"
  }
 },
 "nbformat": 4,
 "nbformat_minor": 5
}
